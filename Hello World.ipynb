{
 "cells": [
  {
   "cell_type": "markdown",
   "id": "c2f7b236",
   "metadata": {},
   "source": [
    "# Hello world!"
   ]
  },
  {
   "cell_type": "markdown",
   "id": "f08a0e78",
   "metadata": {},
   "source": [
    "This is my first Jupyter notebook. It's so easy to create!"
   ]
  },
  {
   "cell_type": "markdown",
   "id": "9bbcc3ee",
   "metadata": {},
   "source": [
    "## Steps"
   ]
  },
  {
   "cell_type": "markdown",
   "id": "d8ed0582",
   "metadata": {},
   "source": [
    "Here are the steps to create a Jupyter notebook:\n",
    "* Open Jupyter Notebook\n",
    "* Create a new notebook\n",
    "* Type some code\n",
    "* Run the code\n",
    "* Save the notebook\n",
    "Enjoy creating your own notebooks!"
   ]
  },
  {
   "cell_type": "code",
   "execution_count": 2,
   "id": "c3e16009",
   "metadata": {},
   "outputs": [
    {
     "name": "stdout",
     "output_type": "stream",
     "text": [
      "Hello World!\n"
     ]
    }
   ],
   "source": [
    " print(\"Hello World!\")"
   ]
  },
  {
   "cell_type": "code",
   "execution_count": null,
   "id": "502cd927",
   "metadata": {},
   "outputs": [],
   "source": []
  },
  {
   "cell_type": "code",
   "execution_count": null,
   "id": "532f303c",
   "metadata": {},
   "outputs": [],
   "source": []
  },
  {
   "cell_type": "code",
   "execution_count": null,
   "id": "93fd1b7f",
   "metadata": {},
   "outputs": [],
   "source": []
  },
  {
   "cell_type": "code",
   "execution_count": null,
   "id": "f92a4f01",
   "metadata": {},
   "outputs": [],
   "source": []
  },
  {
   "cell_type": "code",
   "execution_count": null,
   "id": "e13301d7",
   "metadata": {},
   "outputs": [],
   "source": []
  },
  {
   "cell_type": "code",
   "execution_count": null,
   "id": "b21473c3",
   "metadata": {},
   "outputs": [],
   "source": []
  }
 ],
 "metadata": {
  "kernelspec": {
   "display_name": "Python 3 (ipykernel)",
   "language": "python",
   "name": "python3"
  },
  "language_info": {
   "codemirror_mode": {
    "name": "ipython",
    "version": 3
   },
   "file_extension": ".py",
   "mimetype": "text/x-python",
   "name": "python",
   "nbconvert_exporter": "python",
   "pygments_lexer": "ipython3",
   "version": "3.9.12"
  }
 },
 "nbformat": 4,
 "nbformat_minor": 5
}
